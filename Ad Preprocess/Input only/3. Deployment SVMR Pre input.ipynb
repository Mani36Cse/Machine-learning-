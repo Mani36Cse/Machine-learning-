{
 "cells": [
  {
   "cell_type": "code",
   "execution_count": 1,
   "id": "057b438f",
   "metadata": {},
   "outputs": [],
   "source": [
    "import pandas as ps"
   ]
  },
  {
   "cell_type": "code",
   "execution_count": null,
   "id": "bff07e2f",
   "metadata": {},
   "outputs": [],
   "source": []
  },
  {
   "cell_type": "code",
   "execution_count": 2,
   "id": "6e814ee1",
   "metadata": {},
   "outputs": [],
   "source": [
    "#We already save our model in file useing pickle so we are now calling the file using same pickle.\n",
    "import pickle\n",
    "load_model=pickle.load(open(\"Final_model_SVM.sav\",'rb'))\n",
    "load_fit=pickle.load(open(\"Fit_data_file.sav\",'rb'))"
   ]
  },
  {
   "cell_type": "code",
   "execution_count": 3,
   "id": "d0c669ae",
   "metadata": {},
   "outputs": [
    {
     "name": "stdout",
     "output_type": "stream",
     "text": [
      "Enter the R&D value :12000\n",
      "Enter the Admin value :15000\n",
      "Enter the marketing spend value :18000\n",
      "State Florida yes enter 0, if no enter 1 :0\n",
      "State New York yes enter 0, if no enter 1 :1\n"
     ]
    }
   ],
   "source": [
    "r_and_d=float(input(\"Enter the R&D value :\"))\n",
    "Admin=float(input(\"Enter the Admin value :\"))\n",
    "Mark=float(input(\"Enter the marketing spend value :\"))\n",
    "flo=int(input(\"State Florida yes enter 0, if no enter 1 :\"))\n",
    "new=int(input(\"State New York yes enter 0, if no enter 1 :\"))"
   ]
  },
  {
   "cell_type": "code",
   "execution_count": 4,
   "id": "e6a7ad60",
   "metadata": {},
   "outputs": [
    {
     "name": "stderr",
     "output_type": "stream",
     "text": [
      "C:\\Users\\smani\\anaconda3\\lib\\site-packages\\sklearn\\base.py:420: UserWarning: X does not have valid feature names, but StandardScaler was fitted with feature names\n",
      "  warnings.warn(\n"
     ]
    }
   ],
   "source": [
    "#In this line we are preprocessing the input from user side, This is case 1 input only preprocessing \n",
    "preinput=load_fit.transform([[r_and_d,Admin,Mark,flo,new]])"
   ]
  },
  {
   "cell_type": "code",
   "execution_count": 5,
   "id": "c7cf712a",
   "metadata": {},
   "outputs": [
    {
     "data": {
      "text/plain": [
       "array([[-1.24824276, -4.22189678, -1.40017031, -0.5       ,  1.30088727]])"
      ]
     },
     "execution_count": 5,
     "metadata": {},
     "output_type": "execute_result"
    }
   ],
   "source": [
    "preinput"
   ]
  },
  {
   "cell_type": "code",
   "execution_count": 6,
   "id": "ec32969e",
   "metadata": {},
   "outputs": [],
   "source": [
    "result=load_model.predict(preinput)"
   ]
  },
  {
   "cell_type": "code",
   "execution_count": 7,
   "id": "dc4dbf2e",
   "metadata": {},
   "outputs": [
    {
     "data": {
      "text/plain": [
       "array([53315.18026285])"
      ]
     },
     "execution_count": 7,
     "metadata": {},
     "output_type": "execute_result"
    }
   ],
   "source": [
    "result"
   ]
  },
  {
   "cell_type": "code",
   "execution_count": null,
   "id": "96aaa813",
   "metadata": {},
   "outputs": [],
   "source": []
  },
  {
   "cell_type": "code",
   "execution_count": null,
   "id": "8755b6b6",
   "metadata": {},
   "outputs": [],
   "source": []
  }
 ],
 "metadata": {
  "kernelspec": {
   "display_name": "Python 3 (ipykernel)",
   "language": "python",
   "name": "python3"
  },
  "language_info": {
   "codemirror_mode": {
    "name": "ipython",
    "version": 3
   },
   "file_extension": ".py",
   "mimetype": "text/x-python",
   "name": "python",
   "nbconvert_exporter": "python",
   "pygments_lexer": "ipython3",
   "version": "3.10.9"
  }
 },
 "nbformat": 4,
 "nbformat_minor": 5
}
