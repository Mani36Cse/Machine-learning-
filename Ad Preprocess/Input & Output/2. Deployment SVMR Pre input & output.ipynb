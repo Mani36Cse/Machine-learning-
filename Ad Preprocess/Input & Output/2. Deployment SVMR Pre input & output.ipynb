{
 "cells": [
  {
   "cell_type": "code",
   "execution_count": 1,
   "id": "057b438f",
   "metadata": {},
   "outputs": [],
   "source": [
    "import pandas as ps"
   ]
  },
  {
   "cell_type": "code",
   "execution_count": 2,
   "id": "cd3621fe",
   "metadata": {},
   "outputs": [],
   "source": [
    "Data=ps.read_csv(\"50_Startups.csv\")\n",
    "Data=ps.get_dummies(Data, drop_first=True)\n",
    "Independent=Data[['R&D Spend', 'Administration', 'Marketing Spend', 'State_Florida', 'State_New York']]\n",
    "Dependent=Data[['Profit']]"
   ]
  },
  {
   "cell_type": "code",
   "execution_count": 3,
   "id": "de81b9ab",
   "metadata": {},
   "outputs": [],
   "source": [
    "from sklearn.model_selection import train_test_split\n",
    "x_train,x_test,y_train,y_test=train_test_split(Independent, Dependent, test_size=0.30, random_state=0)"
   ]
  },
  {
   "cell_type": "code",
   "execution_count": 4,
   "id": "bff07e2f",
   "metadata": {},
   "outputs": [],
   "source": [
    "from sklearn.preprocessing import StandardScaler\n",
    "sc=StandardScaler()\n",
    "x_train=sc.fit_transform(x_train)\n",
    "x_test=sc.transform(x_test)"
   ]
  },
  {
   "cell_type": "code",
   "execution_count": 5,
   "id": "51a27071",
   "metadata": {},
   "outputs": [],
   "source": [
    "scy=StandardScaler()\n",
    "y_train=scy.fit_transform(y_train)\n",
    "y_test=scy.transform(y_test)"
   ]
  },
  {
   "cell_type": "code",
   "execution_count": 6,
   "id": "6e814ee1",
   "metadata": {},
   "outputs": [],
   "source": [
    "# In this deployment phase we are not create the model we just enter the required preprocessing method code. If we try without this we will get error\n",
    "# We already save our model in file useing pickle so we are now calling the file using same pickle.\n",
    "import pickle\n",
    "load_model=pickle.load(open(\"Final_model_SVMR.sav\",'rb'))"
   ]
  },
  {
   "cell_type": "code",
   "execution_count": 7,
   "id": "d0c669ae",
   "metadata": {},
   "outputs": [
    {
     "name": "stdout",
     "output_type": "stream",
     "text": [
      "Enter the R&D value :12000\n",
      "Enter the Admin value :15000\n",
      "Enter the marketing spend value :18000\n",
      "State Florida yes enter 0, if no enter 1 :0\n",
      "State New York yes enter 0, if no enter 1 :1\n"
     ]
    }
   ],
   "source": [
    "r_and_d=float(input(\"Enter the R&D value :\"))\n",
    "Admin=float(input(\"Enter the Admin value :\"))\n",
    "Mark=float(input(\"Enter the marketing spend value :\"))\n",
    "flo=int(input(\"State Florida yes enter 0, if no enter 1 :\"))\n",
    "new=int(input(\"State New York yes enter 0, if no enter 1 :\"))"
   ]
  },
  {
   "cell_type": "code",
   "execution_count": 8,
   "id": "e6a7ad60",
   "metadata": {},
   "outputs": [
    {
     "name": "stderr",
     "output_type": "stream",
     "text": [
      "C:\\Users\\smani\\anaconda3\\lib\\site-packages\\sklearn\\base.py:420: UserWarning: X does not have valid feature names, but StandardScaler was fitted with feature names\n",
      "  warnings.warn(\n"
     ]
    }
   ],
   "source": [
    "#In this line we are preprocessing the input from user side, This is case 1 input only preprocessing \n",
    "preinput=sc.transform([[r_and_d,Admin,Mark,flo,new]])"
   ]
  },
  {
   "cell_type": "code",
   "execution_count": 9,
   "id": "c7cf712a",
   "metadata": {},
   "outputs": [
    {
     "data": {
      "text/plain": [
       "array([[-1.24824276, -4.22189678, -1.40017031, -0.5       ,  1.30088727]])"
      ]
     },
     "execution_count": 9,
     "metadata": {},
     "output_type": "execute_result"
    }
   ],
   "source": [
    "preinput"
   ]
  },
  {
   "cell_type": "code",
   "execution_count": 10,
   "id": "ec32969e",
   "metadata": {},
   "outputs": [],
   "source": [
    "result=load_model.predict(preinput)"
   ]
  },
  {
   "cell_type": "code",
   "execution_count": 11,
   "id": "dc4dbf2e",
   "metadata": {},
   "outputs": [
    {
     "data": {
      "text/plain": [
       "array([-1.28238516])"
      ]
     },
     "execution_count": 11,
     "metadata": {},
     "output_type": "execute_result"
    }
   ],
   "source": [
    "result"
   ]
  },
  {
   "cell_type": "code",
   "execution_count": 12,
   "id": "96aaa813",
   "metadata": {},
   "outputs": [],
   "source": [
    "#In this we need to reversal the raw data to output data so we are using inverse which will revase the data.\n",
    "preoutput=scy.inverse_transform([result])"
   ]
  },
  {
   "cell_type": "code",
   "execution_count": 13,
   "id": "3ef49589",
   "metadata": {},
   "outputs": [
    {
     "data": {
      "text/plain": [
       "array([[55066.39307962]])"
      ]
     },
     "execution_count": 13,
     "metadata": {},
     "output_type": "execute_result"
    }
   ],
   "source": [
    "preoutput"
   ]
  },
  {
   "cell_type": "code",
   "execution_count": null,
   "id": "4adc8e4c",
   "metadata": {},
   "outputs": [],
   "source": []
  }
 ],
 "metadata": {
  "kernelspec": {
   "display_name": "Python 3 (ipykernel)",
   "language": "python",
   "name": "python3"
  },
  "language_info": {
   "codemirror_mode": {
    "name": "ipython",
    "version": 3
   },
   "file_extension": ".py",
   "mimetype": "text/x-python",
   "name": "python",
   "nbconvert_exporter": "python",
   "pygments_lexer": "ipython3",
   "version": "3.10.9"
  }
 },
 "nbformat": 4,
 "nbformat_minor": 5
}
