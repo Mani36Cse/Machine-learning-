{
 "cells": [
  {
   "cell_type": "code",
   "execution_count": 1,
   "id": "6fa646f0",
   "metadata": {},
   "outputs": [],
   "source": [
    "import pickle"
   ]
  },
  {
   "cell_type": "markdown",
   "id": "44cf27f3",
   "metadata": {},
   "source": [
    "## 1.load the best model"
   ]
  },
  {
   "cell_type": "code",
   "execution_count": 3,
   "id": "98b19091",
   "metadata": {},
   "outputs": [],
   "source": [
    "load=pickle.load(open(\"Final_model_DT.sav\",'rb'))"
   ]
  },
  {
   "cell_type": "markdown",
   "id": "19e2f44c",
   "metadata": {},
   "source": [
    "## 2.Get the input "
   ]
  },
  {
   "cell_type": "code",
   "execution_count": 4,
   "id": "4f4362c8",
   "metadata": {},
   "outputs": [
    {
     "name": "stdout",
     "output_type": "stream",
     "text": [
      "Enter the R&D value :8560\n",
      "Enter the Admin value :12000\n",
      "Enter the marketing spend value :15000\n",
      "State Florida yes enter 0, if no enter 1 :0\n",
      "State New York yes enter 0, if no enter 1 :1\n"
     ]
    }
   ],
   "source": [
    "r_and_d=float(input(\"Enter the R&D value :\"))\n",
    "Admin=float(input(\"Enter the Admin value :\"))\n",
    "Mark=float(input(\"Enter the marketing spend value :\"))\n",
    "flo=int(input(\"State Florida yes enter 0, if no enter 1 :\"))\n",
    "new=int(input(\"State New York yes enter 0, if no enter 1 :\"))"
   ]
  },
  {
   "cell_type": "code",
   "execution_count": 6,
   "id": "b844b6fa",
   "metadata": {},
   "outputs": [
    {
     "name": "stderr",
     "output_type": "stream",
     "text": [
      "C:\\Users\\smani\\anaconda3\\lib\\site-packages\\sklearn\\base.py:420: UserWarning: X does not have valid feature names, but DecisionTreeRegressor was fitted with feature names\n",
      "  warnings.warn(\n"
     ]
    }
   ],
   "source": [
    "result=load.predict([[r_and_d,Admin,Mark,flo,new]])"
   ]
  },
  {
   "cell_type": "code",
   "execution_count": 7,
   "id": "3f304575",
   "metadata": {},
   "outputs": [
    {
     "data": {
      "text/plain": [
       "array([64926.08])"
      ]
     },
     "execution_count": 7,
     "metadata": {},
     "output_type": "execute_result"
    }
   ],
   "source": [
    "result"
   ]
  },
  {
   "cell_type": "code",
   "execution_count": null,
   "id": "5eae41f9",
   "metadata": {},
   "outputs": [],
   "source": []
  }
 ],
 "metadata": {
  "kernelspec": {
   "display_name": "Python 3 (ipykernel)",
   "language": "python",
   "name": "python3"
  },
  "language_info": {
   "codemirror_mode": {
    "name": "ipython",
    "version": 3
   },
   "file_extension": ".py",
   "mimetype": "text/x-python",
   "name": "python",
   "nbconvert_exporter": "python",
   "pygments_lexer": "ipython3",
   "version": "3.10.9"
  }
 },
 "nbformat": 4,
 "nbformat_minor": 5
}
