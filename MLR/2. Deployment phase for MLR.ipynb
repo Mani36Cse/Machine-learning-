{
 "cells": [
  {
   "cell_type": "code",
   "execution_count": 1,
   "id": "5898edda",
   "metadata": {},
   "outputs": [],
   "source": [
    "import pickle"
   ]
  },
  {
   "cell_type": "markdown",
   "id": "1a50f392",
   "metadata": {},
   "source": [
    "## 1. Load the best model"
   ]
  },
  {
   "cell_type": "code",
   "execution_count": 2,
   "id": "454a7aab",
   "metadata": {},
   "outputs": [],
   "source": [
    "load_model=pickle.load(open(\"Final_model_Multi_linear.sav\",\"rb\"))"
   ]
  },
  {
   "cell_type": "markdown",
   "id": "4745fbcf",
   "metadata": {},
   "source": [
    "## 2. Get the input "
   ]
  },
  {
   "cell_type": "code",
   "execution_count": 4,
   "id": "e6002cac",
   "metadata": {},
   "outputs": [
    {
     "name": "stdout",
     "output_type": "stream",
     "text": [
      "Enter the R&D value :8560\n",
      "Enter the Admin value :12000\n",
      "Enter the marketing spend value :15000\n",
      "State Florida yes enter 0, if no enter 1 :0\n",
      "State New York yes enter 0, if no enter 1 :1\n"
     ]
    }
   ],
   "source": [
    "r_and_d=float(input(\"Enter the R&D value :\"))\n",
    "Admin=float(input(\"Enter the Admin value :\"))\n",
    "Mark=float(input(\"Enter the marketing spend value :\"))\n",
    "flo=int(input(\"State Florida yes enter 0, if no enter 1 :\"))\n",
    "new=int(input(\"State New York yes enter 0, if no enter 1 :\"))"
   ]
  },
  {
   "cell_type": "code",
   "execution_count": 5,
   "id": "60281a34",
   "metadata": {},
   "outputs": [
    {
     "name": "stderr",
     "output_type": "stream",
     "text": [
      "C:\\Users\\smani\\anaconda3\\lib\\site-packages\\sklearn\\base.py:420: UserWarning: X does not have valid feature names, but LinearRegression was fitted with feature names\n",
      "  warnings.warn(\n"
     ]
    }
   ],
   "source": [
    "result=load_model.predict([[r_and_d,Admin,Mark,flo,new]])"
   ]
  },
  {
   "cell_type": "code",
   "execution_count": 6,
   "id": "d0e7c0f5",
   "metadata": {},
   "outputs": [
    {
     "data": {
      "text/plain": [
       "array([[50305.8476731]])"
      ]
     },
     "execution_count": 6,
     "metadata": {},
     "output_type": "execute_result"
    }
   ],
   "source": [
    "result"
   ]
  },
  {
   "cell_type": "code",
   "execution_count": null,
   "id": "8941d8f2",
   "metadata": {},
   "outputs": [],
   "source": []
  }
 ],
 "metadata": {
  "kernelspec": {
   "display_name": "Python 3 (ipykernel)",
   "language": "python",
   "name": "python3"
  },
  "language_info": {
   "codemirror_mode": {
    "name": "ipython",
    "version": 3
   },
   "file_extension": ".py",
   "mimetype": "text/x-python",
   "name": "python",
   "nbconvert_exporter": "python",
   "pygments_lexer": "ipython3",
   "version": "3.10.9"
  }
 },
 "nbformat": 4,
 "nbformat_minor": 5
}
