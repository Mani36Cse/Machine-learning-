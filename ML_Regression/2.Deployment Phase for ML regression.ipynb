{
 "cells": [
  {
   "cell_type": "code",
   "execution_count": 1,
   "id": "0ee15797",
   "metadata": {},
   "outputs": [],
   "source": [
    "import pickle"
   ]
  },
  {
   "cell_type": "code",
   "execution_count": 2,
   "id": "4d388848",
   "metadata": {},
   "outputs": [],
   "source": [
    "load=pickle.load(open(\"Final_model.sav\",'rb'))"
   ]
  },
  {
   "cell_type": "code",
   "execution_count": 3,
   "id": "f655bce8",
   "metadata": {},
   "outputs": [
    {
     "name": "stdout",
     "output_type": "stream",
     "text": [
      "Enter your age :33\n",
      "Enter your BMI : 22.705\n",
      "Enter Children count:0\n",
      "Enter the gander if male enter 1, if female enter 0 :1\n",
      "Enter if somker enter 1, if no somker enter 0 :0\n"
     ]
    }
   ],
   "source": [
    "age=int(input(\"Enter your age :\"))\n",
    "bmi=float(input(\"Enter your BMI : \"))\n",
    "children=int(input(\"Enter Children count:\"))\n",
    "Gen=int(input(\"Enter the gander if male enter 1, if female enter 0 :\"))\n",
    "smok=int(input(\"Enter if somker enter 1, if no somker enter 0 :\"))"
   ]
  },
  {
   "cell_type": "code",
   "execution_count": 4,
   "id": "291eb397",
   "metadata": {},
   "outputs": [],
   "source": [
    "result=load.predict([[age,bmi,children,Gen,smok]])"
   ]
  },
  {
   "cell_type": "code",
   "execution_count": 5,
   "id": "33cb9e87",
   "metadata": {},
   "outputs": [
    {
     "data": {
      "text/plain": [
       "array([16589.18908958])"
      ]
     },
     "execution_count": 5,
     "metadata": {},
     "output_type": "execute_result"
    }
   ],
   "source": [
    "result"
   ]
  },
  {
   "cell_type": "code",
   "execution_count": null,
   "id": "d8a3a83a",
   "metadata": {},
   "outputs": [],
   "source": []
  }
 ],
 "metadata": {
  "kernelspec": {
   "display_name": "Python 3 (ipykernel)",
   "language": "python",
   "name": "python3"
  },
  "language_info": {
   "codemirror_mode": {
    "name": "ipython",
    "version": 3
   },
   "file_extension": ".py",
   "mimetype": "text/x-python",
   "name": "python",
   "nbconvert_exporter": "python",
   "pygments_lexer": "ipython3",
   "version": "3.10.9"
  }
 },
 "nbformat": 4,
 "nbformat_minor": 5
}
