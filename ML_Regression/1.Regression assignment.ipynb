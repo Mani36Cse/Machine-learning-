{
 "cells": [
  {
   "cell_type": "code",
   "execution_count": 1,
   "id": "4f23da99",
   "metadata": {},
   "outputs": [],
   "source": [
    "import pandas as ps"
   ]
  },
  {
   "cell_type": "markdown",
   "id": "52d0096f",
   "metadata": {},
   "source": [
    "## 1. Data collection"
   ]
  },
  {
   "cell_type": "code",
   "execution_count": 2,
   "id": "ff73d641",
   "metadata": {},
   "outputs": [
    {
     "data": {
      "text/html": [
       "<div>\n",
       "<style scoped>\n",
       "    .dataframe tbody tr th:only-of-type {\n",
       "        vertical-align: middle;\n",
       "    }\n",
       "\n",
       "    .dataframe tbody tr th {\n",
       "        vertical-align: top;\n",
       "    }\n",
       "\n",
       "    .dataframe thead th {\n",
       "        text-align: right;\n",
       "    }\n",
       "</style>\n",
       "<table border=\"1\" class=\"dataframe\">\n",
       "  <thead>\n",
       "    <tr style=\"text-align: right;\">\n",
       "      <th></th>\n",
       "      <th>age</th>\n",
       "      <th>sex</th>\n",
       "      <th>bmi</th>\n",
       "      <th>children</th>\n",
       "      <th>smoker</th>\n",
       "      <th>charges</th>\n",
       "    </tr>\n",
       "  </thead>\n",
       "  <tbody>\n",
       "    <tr>\n",
       "      <th>0</th>\n",
       "      <td>19</td>\n",
       "      <td>female</td>\n",
       "      <td>27.900</td>\n",
       "      <td>0</td>\n",
       "      <td>yes</td>\n",
       "      <td>16884.92400</td>\n",
       "    </tr>\n",
       "    <tr>\n",
       "      <th>1</th>\n",
       "      <td>18</td>\n",
       "      <td>male</td>\n",
       "      <td>33.770</td>\n",
       "      <td>1</td>\n",
       "      <td>no</td>\n",
       "      <td>1725.55230</td>\n",
       "    </tr>\n",
       "    <tr>\n",
       "      <th>2</th>\n",
       "      <td>28</td>\n",
       "      <td>male</td>\n",
       "      <td>33.000</td>\n",
       "      <td>3</td>\n",
       "      <td>no</td>\n",
       "      <td>4449.46200</td>\n",
       "    </tr>\n",
       "    <tr>\n",
       "      <th>3</th>\n",
       "      <td>33</td>\n",
       "      <td>male</td>\n",
       "      <td>22.705</td>\n",
       "      <td>0</td>\n",
       "      <td>no</td>\n",
       "      <td>21984.47061</td>\n",
       "    </tr>\n",
       "    <tr>\n",
       "      <th>4</th>\n",
       "      <td>32</td>\n",
       "      <td>male</td>\n",
       "      <td>28.880</td>\n",
       "      <td>0</td>\n",
       "      <td>no</td>\n",
       "      <td>3866.85520</td>\n",
       "    </tr>\n",
       "    <tr>\n",
       "      <th>...</th>\n",
       "      <td>...</td>\n",
       "      <td>...</td>\n",
       "      <td>...</td>\n",
       "      <td>...</td>\n",
       "      <td>...</td>\n",
       "      <td>...</td>\n",
       "    </tr>\n",
       "    <tr>\n",
       "      <th>1333</th>\n",
       "      <td>50</td>\n",
       "      <td>male</td>\n",
       "      <td>30.970</td>\n",
       "      <td>3</td>\n",
       "      <td>no</td>\n",
       "      <td>10600.54830</td>\n",
       "    </tr>\n",
       "    <tr>\n",
       "      <th>1334</th>\n",
       "      <td>18</td>\n",
       "      <td>female</td>\n",
       "      <td>31.920</td>\n",
       "      <td>0</td>\n",
       "      <td>no</td>\n",
       "      <td>2205.98080</td>\n",
       "    </tr>\n",
       "    <tr>\n",
       "      <th>1335</th>\n",
       "      <td>18</td>\n",
       "      <td>female</td>\n",
       "      <td>36.850</td>\n",
       "      <td>0</td>\n",
       "      <td>no</td>\n",
       "      <td>1629.83350</td>\n",
       "    </tr>\n",
       "    <tr>\n",
       "      <th>1336</th>\n",
       "      <td>21</td>\n",
       "      <td>female</td>\n",
       "      <td>25.800</td>\n",
       "      <td>0</td>\n",
       "      <td>no</td>\n",
       "      <td>2007.94500</td>\n",
       "    </tr>\n",
       "    <tr>\n",
       "      <th>1337</th>\n",
       "      <td>61</td>\n",
       "      <td>female</td>\n",
       "      <td>29.070</td>\n",
       "      <td>0</td>\n",
       "      <td>yes</td>\n",
       "      <td>29141.36030</td>\n",
       "    </tr>\n",
       "  </tbody>\n",
       "</table>\n",
       "<p>1338 rows × 6 columns</p>\n",
       "</div>"
      ],
      "text/plain": [
       "      age     sex     bmi  children smoker      charges\n",
       "0      19  female  27.900         0    yes  16884.92400\n",
       "1      18    male  33.770         1     no   1725.55230\n",
       "2      28    male  33.000         3     no   4449.46200\n",
       "3      33    male  22.705         0     no  21984.47061\n",
       "4      32    male  28.880         0     no   3866.85520\n",
       "...   ...     ...     ...       ...    ...          ...\n",
       "1333   50    male  30.970         3     no  10600.54830\n",
       "1334   18  female  31.920         0     no   2205.98080\n",
       "1335   18  female  36.850         0     no   1629.83350\n",
       "1336   21  female  25.800         0     no   2007.94500\n",
       "1337   61  female  29.070         0    yes  29141.36030\n",
       "\n",
       "[1338 rows x 6 columns]"
      ]
     },
     "execution_count": 2,
     "metadata": {},
     "output_type": "execute_result"
    }
   ],
   "source": [
    "Data_set=ps.read_csv(\"insurance_pre.csv\")\n",
    "Data_set"
   ]
  },
  {
   "cell_type": "code",
   "execution_count": 3,
   "id": "b00ee7ef",
   "metadata": {},
   "outputs": [],
   "source": [
    "#The data set have a categorical data so we are using Nominal menthod which is converting string to number\n",
    "Data=ps.get_dummies(Data_set,drop_first=True)"
   ]
  },
  {
   "cell_type": "code",
   "execution_count": 4,
   "id": "9a2b0387",
   "metadata": {
    "scrolled": false
   },
   "outputs": [
    {
     "data": {
      "text/html": [
       "<div>\n",
       "<style scoped>\n",
       "    .dataframe tbody tr th:only-of-type {\n",
       "        vertical-align: middle;\n",
       "    }\n",
       "\n",
       "    .dataframe tbody tr th {\n",
       "        vertical-align: top;\n",
       "    }\n",
       "\n",
       "    .dataframe thead th {\n",
       "        text-align: right;\n",
       "    }\n",
       "</style>\n",
       "<table border=\"1\" class=\"dataframe\">\n",
       "  <thead>\n",
       "    <tr style=\"text-align: right;\">\n",
       "      <th></th>\n",
       "      <th>age</th>\n",
       "      <th>bmi</th>\n",
       "      <th>children</th>\n",
       "      <th>charges</th>\n",
       "      <th>sex_male</th>\n",
       "      <th>smoker_yes</th>\n",
       "    </tr>\n",
       "  </thead>\n",
       "  <tbody>\n",
       "    <tr>\n",
       "      <th>0</th>\n",
       "      <td>19</td>\n",
       "      <td>27.900</td>\n",
       "      <td>0</td>\n",
       "      <td>16884.92400</td>\n",
       "      <td>0</td>\n",
       "      <td>1</td>\n",
       "    </tr>\n",
       "    <tr>\n",
       "      <th>1</th>\n",
       "      <td>18</td>\n",
       "      <td>33.770</td>\n",
       "      <td>1</td>\n",
       "      <td>1725.55230</td>\n",
       "      <td>1</td>\n",
       "      <td>0</td>\n",
       "    </tr>\n",
       "    <tr>\n",
       "      <th>2</th>\n",
       "      <td>28</td>\n",
       "      <td>33.000</td>\n",
       "      <td>3</td>\n",
       "      <td>4449.46200</td>\n",
       "      <td>1</td>\n",
       "      <td>0</td>\n",
       "    </tr>\n",
       "    <tr>\n",
       "      <th>3</th>\n",
       "      <td>33</td>\n",
       "      <td>22.705</td>\n",
       "      <td>0</td>\n",
       "      <td>21984.47061</td>\n",
       "      <td>1</td>\n",
       "      <td>0</td>\n",
       "    </tr>\n",
       "    <tr>\n",
       "      <th>4</th>\n",
       "      <td>32</td>\n",
       "      <td>28.880</td>\n",
       "      <td>0</td>\n",
       "      <td>3866.85520</td>\n",
       "      <td>1</td>\n",
       "      <td>0</td>\n",
       "    </tr>\n",
       "    <tr>\n",
       "      <th>...</th>\n",
       "      <td>...</td>\n",
       "      <td>...</td>\n",
       "      <td>...</td>\n",
       "      <td>...</td>\n",
       "      <td>...</td>\n",
       "      <td>...</td>\n",
       "    </tr>\n",
       "    <tr>\n",
       "      <th>1333</th>\n",
       "      <td>50</td>\n",
       "      <td>30.970</td>\n",
       "      <td>3</td>\n",
       "      <td>10600.54830</td>\n",
       "      <td>1</td>\n",
       "      <td>0</td>\n",
       "    </tr>\n",
       "    <tr>\n",
       "      <th>1334</th>\n",
       "      <td>18</td>\n",
       "      <td>31.920</td>\n",
       "      <td>0</td>\n",
       "      <td>2205.98080</td>\n",
       "      <td>0</td>\n",
       "      <td>0</td>\n",
       "    </tr>\n",
       "    <tr>\n",
       "      <th>1335</th>\n",
       "      <td>18</td>\n",
       "      <td>36.850</td>\n",
       "      <td>0</td>\n",
       "      <td>1629.83350</td>\n",
       "      <td>0</td>\n",
       "      <td>0</td>\n",
       "    </tr>\n",
       "    <tr>\n",
       "      <th>1336</th>\n",
       "      <td>21</td>\n",
       "      <td>25.800</td>\n",
       "      <td>0</td>\n",
       "      <td>2007.94500</td>\n",
       "      <td>0</td>\n",
       "      <td>0</td>\n",
       "    </tr>\n",
       "    <tr>\n",
       "      <th>1337</th>\n",
       "      <td>61</td>\n",
       "      <td>29.070</td>\n",
       "      <td>0</td>\n",
       "      <td>29141.36030</td>\n",
       "      <td>0</td>\n",
       "      <td>1</td>\n",
       "    </tr>\n",
       "  </tbody>\n",
       "</table>\n",
       "<p>1338 rows × 6 columns</p>\n",
       "</div>"
      ],
      "text/plain": [
       "      age     bmi  children      charges  sex_male  smoker_yes\n",
       "0      19  27.900         0  16884.92400         0           1\n",
       "1      18  33.770         1   1725.55230         1           0\n",
       "2      28  33.000         3   4449.46200         1           0\n",
       "3      33  22.705         0  21984.47061         1           0\n",
       "4      32  28.880         0   3866.85520         1           0\n",
       "...   ...     ...       ...          ...       ...         ...\n",
       "1333   50  30.970         3  10600.54830         1           0\n",
       "1334   18  31.920         0   2205.98080         0           0\n",
       "1335   18  36.850         0   1629.83350         0           0\n",
       "1336   21  25.800         0   2007.94500         0           0\n",
       "1337   61  29.070         0  29141.36030         0           1\n",
       "\n",
       "[1338 rows x 6 columns]"
      ]
     },
     "execution_count": 4,
     "metadata": {},
     "output_type": "execute_result"
    }
   ],
   "source": [
    "Data"
   ]
  },
  {
   "cell_type": "code",
   "execution_count": 5,
   "id": "68a6c299",
   "metadata": {},
   "outputs": [
    {
     "data": {
      "text/plain": [
       "Index(['age', 'bmi', 'children', 'charges', 'sex_male', 'smoker_yes'], dtype='object')"
      ]
     },
     "execution_count": 5,
     "metadata": {},
     "output_type": "execute_result"
    }
   ],
   "source": [
    "Data.columns"
   ]
  },
  {
   "cell_type": "markdown",
   "id": "17aaf5fe",
   "metadata": {},
   "source": [
    "## 2. Input and Output split"
   ]
  },
  {
   "cell_type": "code",
   "execution_count": 6,
   "id": "66e6863e",
   "metadata": {},
   "outputs": [
    {
     "data": {
      "text/html": [
       "<div>\n",
       "<style scoped>\n",
       "    .dataframe tbody tr th:only-of-type {\n",
       "        vertical-align: middle;\n",
       "    }\n",
       "\n",
       "    .dataframe tbody tr th {\n",
       "        vertical-align: top;\n",
       "    }\n",
       "\n",
       "    .dataframe thead th {\n",
       "        text-align: right;\n",
       "    }\n",
       "</style>\n",
       "<table border=\"1\" class=\"dataframe\">\n",
       "  <thead>\n",
       "    <tr style=\"text-align: right;\">\n",
       "      <th></th>\n",
       "      <th>age</th>\n",
       "      <th>bmi</th>\n",
       "      <th>children</th>\n",
       "      <th>sex_male</th>\n",
       "      <th>smoker_yes</th>\n",
       "    </tr>\n",
       "  </thead>\n",
       "  <tbody>\n",
       "    <tr>\n",
       "      <th>0</th>\n",
       "      <td>19</td>\n",
       "      <td>27.900</td>\n",
       "      <td>0</td>\n",
       "      <td>0</td>\n",
       "      <td>1</td>\n",
       "    </tr>\n",
       "    <tr>\n",
       "      <th>1</th>\n",
       "      <td>18</td>\n",
       "      <td>33.770</td>\n",
       "      <td>1</td>\n",
       "      <td>1</td>\n",
       "      <td>0</td>\n",
       "    </tr>\n",
       "    <tr>\n",
       "      <th>2</th>\n",
       "      <td>28</td>\n",
       "      <td>33.000</td>\n",
       "      <td>3</td>\n",
       "      <td>1</td>\n",
       "      <td>0</td>\n",
       "    </tr>\n",
       "    <tr>\n",
       "      <th>3</th>\n",
       "      <td>33</td>\n",
       "      <td>22.705</td>\n",
       "      <td>0</td>\n",
       "      <td>1</td>\n",
       "      <td>0</td>\n",
       "    </tr>\n",
       "    <tr>\n",
       "      <th>4</th>\n",
       "      <td>32</td>\n",
       "      <td>28.880</td>\n",
       "      <td>0</td>\n",
       "      <td>1</td>\n",
       "      <td>0</td>\n",
       "    </tr>\n",
       "    <tr>\n",
       "      <th>...</th>\n",
       "      <td>...</td>\n",
       "      <td>...</td>\n",
       "      <td>...</td>\n",
       "      <td>...</td>\n",
       "      <td>...</td>\n",
       "    </tr>\n",
       "    <tr>\n",
       "      <th>1333</th>\n",
       "      <td>50</td>\n",
       "      <td>30.970</td>\n",
       "      <td>3</td>\n",
       "      <td>1</td>\n",
       "      <td>0</td>\n",
       "    </tr>\n",
       "    <tr>\n",
       "      <th>1334</th>\n",
       "      <td>18</td>\n",
       "      <td>31.920</td>\n",
       "      <td>0</td>\n",
       "      <td>0</td>\n",
       "      <td>0</td>\n",
       "    </tr>\n",
       "    <tr>\n",
       "      <th>1335</th>\n",
       "      <td>18</td>\n",
       "      <td>36.850</td>\n",
       "      <td>0</td>\n",
       "      <td>0</td>\n",
       "      <td>0</td>\n",
       "    </tr>\n",
       "    <tr>\n",
       "      <th>1336</th>\n",
       "      <td>21</td>\n",
       "      <td>25.800</td>\n",
       "      <td>0</td>\n",
       "      <td>0</td>\n",
       "      <td>0</td>\n",
       "    </tr>\n",
       "    <tr>\n",
       "      <th>1337</th>\n",
       "      <td>61</td>\n",
       "      <td>29.070</td>\n",
       "      <td>0</td>\n",
       "      <td>0</td>\n",
       "      <td>1</td>\n",
       "    </tr>\n",
       "  </tbody>\n",
       "</table>\n",
       "<p>1338 rows × 5 columns</p>\n",
       "</div>"
      ],
      "text/plain": [
       "      age     bmi  children  sex_male  smoker_yes\n",
       "0      19  27.900         0         0           1\n",
       "1      18  33.770         1         1           0\n",
       "2      28  33.000         3         1           0\n",
       "3      33  22.705         0         1           0\n",
       "4      32  28.880         0         1           0\n",
       "...   ...     ...       ...       ...         ...\n",
       "1333   50  30.970         3         1           0\n",
       "1334   18  31.920         0         0           0\n",
       "1335   18  36.850         0         0           0\n",
       "1336   21  25.800         0         0           0\n",
       "1337   61  29.070         0         0           1\n",
       "\n",
       "[1338 rows x 5 columns]"
      ]
     },
     "execution_count": 6,
     "metadata": {},
     "output_type": "execute_result"
    }
   ],
   "source": [
    "#As per the request we need to predice the Charges that is out AI output other then that we took all as a Input in Dataset\n",
    "Independent=Data[['age', 'bmi', 'children', 'sex_male', 'smoker_yes']]\n",
    "Independent"
   ]
  },
  {
   "cell_type": "code",
   "execution_count": 7,
   "id": "9e712fcf",
   "metadata": {
    "scrolled": false
   },
   "outputs": [
    {
     "data": {
      "text/html": [
       "<div>\n",
       "<style scoped>\n",
       "    .dataframe tbody tr th:only-of-type {\n",
       "        vertical-align: middle;\n",
       "    }\n",
       "\n",
       "    .dataframe tbody tr th {\n",
       "        vertical-align: top;\n",
       "    }\n",
       "\n",
       "    .dataframe thead th {\n",
       "        text-align: right;\n",
       "    }\n",
       "</style>\n",
       "<table border=\"1\" class=\"dataframe\">\n",
       "  <thead>\n",
       "    <tr style=\"text-align: right;\">\n",
       "      <th></th>\n",
       "      <th>charges</th>\n",
       "    </tr>\n",
       "  </thead>\n",
       "  <tbody>\n",
       "    <tr>\n",
       "      <th>0</th>\n",
       "      <td>16884.92400</td>\n",
       "    </tr>\n",
       "    <tr>\n",
       "      <th>1</th>\n",
       "      <td>1725.55230</td>\n",
       "    </tr>\n",
       "    <tr>\n",
       "      <th>2</th>\n",
       "      <td>4449.46200</td>\n",
       "    </tr>\n",
       "    <tr>\n",
       "      <th>3</th>\n",
       "      <td>21984.47061</td>\n",
       "    </tr>\n",
       "    <tr>\n",
       "      <th>4</th>\n",
       "      <td>3866.85520</td>\n",
       "    </tr>\n",
       "    <tr>\n",
       "      <th>...</th>\n",
       "      <td>...</td>\n",
       "    </tr>\n",
       "    <tr>\n",
       "      <th>1333</th>\n",
       "      <td>10600.54830</td>\n",
       "    </tr>\n",
       "    <tr>\n",
       "      <th>1334</th>\n",
       "      <td>2205.98080</td>\n",
       "    </tr>\n",
       "    <tr>\n",
       "      <th>1335</th>\n",
       "      <td>1629.83350</td>\n",
       "    </tr>\n",
       "    <tr>\n",
       "      <th>1336</th>\n",
       "      <td>2007.94500</td>\n",
       "    </tr>\n",
       "    <tr>\n",
       "      <th>1337</th>\n",
       "      <td>29141.36030</td>\n",
       "    </tr>\n",
       "  </tbody>\n",
       "</table>\n",
       "<p>1338 rows × 1 columns</p>\n",
       "</div>"
      ],
      "text/plain": [
       "          charges\n",
       "0     16884.92400\n",
       "1      1725.55230\n",
       "2      4449.46200\n",
       "3     21984.47061\n",
       "4      3866.85520\n",
       "...           ...\n",
       "1333  10600.54830\n",
       "1334   2205.98080\n",
       "1335   1629.83350\n",
       "1336   2007.94500\n",
       "1337  29141.36030\n",
       "\n",
       "[1338 rows x 1 columns]"
      ]
     },
     "execution_count": 7,
     "metadata": {},
     "output_type": "execute_result"
    }
   ],
   "source": [
    "Dependent=Data[['charges']]\n",
    "Dependent"
   ]
  },
  {
   "cell_type": "markdown",
   "id": "ed0ba8f9",
   "metadata": {},
   "source": [
    "## 3. Split the train & test Data"
   ]
  },
  {
   "cell_type": "code",
   "execution_count": 30,
   "id": "9e3e0506",
   "metadata": {},
   "outputs": [],
   "source": [
    "#We split our data using Sklearn packages and assigned the datas in variable the test data size was 30%\n",
    "from sklearn.model_selection import train_test_split\n",
    "x_train,x_test,y_train,y_test=train_test_split(Independent, Dependent, test_size=0.30, random_state=0)"
   ]
  },
  {
   "cell_type": "code",
   "execution_count": 31,
   "id": "e9bc0847",
   "metadata": {},
   "outputs": [],
   "source": [
    "#Standartion the Dataset why beacuse the different between the mix and min no was very hight so we are going use this Standartion\n",
    "from sklearn.preprocessing import StandardScaler\n",
    "sc=StandardScaler()\n",
    "x_train=sc.fit_transform(x_train)\n",
    "x_test=sc.transform(x_test)"
   ]
  },
  {
   "cell_type": "code",
   "execution_count": 32,
   "id": "8e3273e6",
   "metadata": {
    "scrolled": true
   },
   "outputs": [
    {
     "data": {
      "text/plain": [
       "array([[-1.5330973 , -0.40713453, -0.89833872, -0.97676557, -0.50466988],\n",
       "       [-0.03364163,  0.32855417, -0.89833872, -0.97676557, -0.50466988],\n",
       "       [ 0.89459283,  2.56690911,  3.25603402, -0.97676557, -0.50466988],\n",
       "       ...,\n",
       "       [ 0.03776102, -0.91016269, -0.89833872,  1.02378711, -0.50466988],\n",
       "       [-1.46169465,  0.76659782, -0.89833872,  1.02378711, -0.50466988],\n",
       "       [-0.46205754, -1.96596021, -0.06746417, -0.97676557, -0.50466988]])"
      ]
     },
     "execution_count": 32,
     "metadata": {},
     "output_type": "execute_result"
    }
   ],
   "source": [
    "x_train"
   ]
  },
  {
   "cell_type": "markdown",
   "id": "3835e4c2",
   "metadata": {},
   "source": [
    "## 4. Model creation"
   ]
  },
  {
   "cell_type": "code",
   "execution_count": 33,
   "id": "757eae9c",
   "metadata": {},
   "outputs": [
    {
     "name": "stderr",
     "output_type": "stream",
     "text": [
      "C:\\Users\\smani\\anaconda3\\lib\\site-packages\\sklearn\\utils\\validation.py:1143: DataConversionWarning: A column-vector y was passed when a 1d array was expected. Please change the shape of y to (n_samples, ), for example using ravel().\n",
      "  y = column_or_1d(y, warn=True)\n"
     ]
    },
    {
     "data": {
      "text/html": [
       "<style>#sk-container-id-2 {color: black;background-color: white;}#sk-container-id-2 pre{padding: 0;}#sk-container-id-2 div.sk-toggleable {background-color: white;}#sk-container-id-2 label.sk-toggleable__label {cursor: pointer;display: block;width: 100%;margin-bottom: 0;padding: 0.3em;box-sizing: border-box;text-align: center;}#sk-container-id-2 label.sk-toggleable__label-arrow:before {content: \"▸\";float: left;margin-right: 0.25em;color: #696969;}#sk-container-id-2 label.sk-toggleable__label-arrow:hover:before {color: black;}#sk-container-id-2 div.sk-estimator:hover label.sk-toggleable__label-arrow:before {color: black;}#sk-container-id-2 div.sk-toggleable__content {max-height: 0;max-width: 0;overflow: hidden;text-align: left;background-color: #f0f8ff;}#sk-container-id-2 div.sk-toggleable__content pre {margin: 0.2em;color: black;border-radius: 0.25em;background-color: #f0f8ff;}#sk-container-id-2 input.sk-toggleable__control:checked~div.sk-toggleable__content {max-height: 200px;max-width: 100%;overflow: auto;}#sk-container-id-2 input.sk-toggleable__control:checked~label.sk-toggleable__label-arrow:before {content: \"▾\";}#sk-container-id-2 div.sk-estimator input.sk-toggleable__control:checked~label.sk-toggleable__label {background-color: #d4ebff;}#sk-container-id-2 div.sk-label input.sk-toggleable__control:checked~label.sk-toggleable__label {background-color: #d4ebff;}#sk-container-id-2 input.sk-hidden--visually {border: 0;clip: rect(1px 1px 1px 1px);clip: rect(1px, 1px, 1px, 1px);height: 1px;margin: -1px;overflow: hidden;padding: 0;position: absolute;width: 1px;}#sk-container-id-2 div.sk-estimator {font-family: monospace;background-color: #f0f8ff;border: 1px dotted black;border-radius: 0.25em;box-sizing: border-box;margin-bottom: 0.5em;}#sk-container-id-2 div.sk-estimator:hover {background-color: #d4ebff;}#sk-container-id-2 div.sk-parallel-item::after {content: \"\";width: 100%;border-bottom: 1px solid gray;flex-grow: 1;}#sk-container-id-2 div.sk-label:hover label.sk-toggleable__label {background-color: #d4ebff;}#sk-container-id-2 div.sk-serial::before {content: \"\";position: absolute;border-left: 1px solid gray;box-sizing: border-box;top: 0;bottom: 0;left: 50%;z-index: 0;}#sk-container-id-2 div.sk-serial {display: flex;flex-direction: column;align-items: center;background-color: white;padding-right: 0.2em;padding-left: 0.2em;position: relative;}#sk-container-id-2 div.sk-item {position: relative;z-index: 1;}#sk-container-id-2 div.sk-parallel {display: flex;align-items: stretch;justify-content: center;background-color: white;position: relative;}#sk-container-id-2 div.sk-item::before, #sk-container-id-2 div.sk-parallel-item::before {content: \"\";position: absolute;border-left: 1px solid gray;box-sizing: border-box;top: 0;bottom: 0;left: 50%;z-index: -1;}#sk-container-id-2 div.sk-parallel-item {display: flex;flex-direction: column;z-index: 1;position: relative;background-color: white;}#sk-container-id-2 div.sk-parallel-item:first-child::after {align-self: flex-end;width: 50%;}#sk-container-id-2 div.sk-parallel-item:last-child::after {align-self: flex-start;width: 50%;}#sk-container-id-2 div.sk-parallel-item:only-child::after {width: 0;}#sk-container-id-2 div.sk-dashed-wrapped {border: 1px dashed gray;margin: 0 0.4em 0.5em 0.4em;box-sizing: border-box;padding-bottom: 0.4em;background-color: white;}#sk-container-id-2 div.sk-label label {font-family: monospace;font-weight: bold;display: inline-block;line-height: 1.2em;}#sk-container-id-2 div.sk-label-container {text-align: center;}#sk-container-id-2 div.sk-container {/* jupyter's `normalize.less` sets `[hidden] { display: none; }` but bootstrap.min.css set `[hidden] { display: none !important; }` so we also need the `!important` here to be able to override the default hidden behavior on the sphinx rendered scikit-learn.org. See: https://github.com/scikit-learn/scikit-learn/issues/21755 */display: inline-block !important;position: relative;}#sk-container-id-2 div.sk-text-repr-fallback {display: none;}</style><div id=\"sk-container-id-2\" class=\"sk-top-container\"><div class=\"sk-text-repr-fallback\"><pre>SVR(C=3000)</pre><b>In a Jupyter environment, please rerun this cell to show the HTML representation or trust the notebook. <br />On GitHub, the HTML representation is unable to render, please try loading this page with nbviewer.org.</b></div><div class=\"sk-container\" hidden><div class=\"sk-item\"><div class=\"sk-estimator sk-toggleable\"><input class=\"sk-toggleable__control sk-hidden--visually\" id=\"sk-estimator-id-2\" type=\"checkbox\" checked><label for=\"sk-estimator-id-2\" class=\"sk-toggleable__label sk-toggleable__label-arrow\">SVR</label><div class=\"sk-toggleable__content\"><pre>SVR(C=3000)</pre></div></div></div></div></div>"
      ],
      "text/plain": [
       "SVR(C=3000)"
      ]
     },
     "execution_count": 33,
     "metadata": {},
     "output_type": "execute_result"
    }
   ],
   "source": [
    "from sklearn.svm import SVR\n",
    "# In this line C mention the size for the border plain which is cover the Data point(vector)\n",
    "#Kernel mention the which type to be used in the algorithm\n",
    "re=SVR(kernel=\"rbf\",C=3000)\n",
    "re.fit(x_train,y_train)"
   ]
  },
  {
   "cell_type": "code",
   "execution_count": null,
   "id": "7d8e1334",
   "metadata": {},
   "outputs": [],
   "source": []
  },
  {
   "cell_type": "code",
   "execution_count": 34,
   "id": "b6a0aca6",
   "metadata": {},
   "outputs": [
    {
     "data": {
      "text/plain": [
       "array([936])"
      ]
     },
     "execution_count": 34,
     "metadata": {},
     "output_type": "execute_result"
    }
   ],
   "source": [
    "#it show number of support vectors for each class\n",
    "re.n_support_"
   ]
  },
  {
   "cell_type": "code",
   "execution_count": 35,
   "id": "302bd880",
   "metadata": {},
   "outputs": [
    {
     "data": {
      "text/plain": [
       "array([10084.09257621,  8624.7729507 , 46884.58646869, 12831.80286543,\n",
       "       10315.10041574,  4108.71756054,  2213.11004343, 11404.71458294,\n",
       "        7192.75687047,  5105.2156205 ,  7111.22139197, 10281.05240919,\n",
       "        7385.42516556,  4554.35877891, 22691.75241313, 11085.76935048,\n",
       "       12489.53874166,  3063.84179016,  6513.23030101, 25069.82560611,\n",
       "       24081.45525342, 12816.24712754, 10015.86849878, 28082.85079319,\n",
       "        1723.51143501,  4007.47526115,  3993.04628724,  7731.08173135,\n",
       "        4098.28682944,  8418.71974488,  7778.67124373, 44749.93885084,\n",
       "       13252.93156978, 10544.50608648, 14303.56627735,  3873.77342573,\n",
       "        8387.17497776, 39805.70975527, 36906.99909332,  2135.87142871,\n",
       "        5518.63305385,  3234.84606561, 22669.50544228, 44432.39103681,\n",
       "       33585.59932165,  3590.80892728, 11084.94356966,  6939.44898786,\n",
       "        4061.31728473, 12160.34334209,  2358.30942963,  4024.06127488,\n",
       "       28789.19162263, 39474.03096644, 12041.7718838 ,  2658.35234773,\n",
       "        2276.87718916,  8818.02677984,  9272.36378651, 13063.74837808,\n",
       "        1731.98743872, 33362.70557106, 14118.28479032,  9975.3930357 ,\n",
       "       10266.27353361, 10105.94407479, 23967.46086378, 34401.67779183,\n",
       "        3490.19017262,  7806.02347934, 13347.47697403, 11990.45615888,\n",
       "       18885.20873415, 13917.28170478, 13021.72672915, 12978.81769805,\n",
       "        7515.99956318,  8109.10414781, 21703.07050155, 43707.3674754 ,\n",
       "       11473.45152769, 38638.35719686,  1834.10530134,  7760.18592676,\n",
       "       41953.11681724, 19461.62475064,  3393.77318363,  2535.59554892,\n",
       "       12765.78806232, 36618.22090745,  5749.37872229, 10610.80540962,\n",
       "        2831.40629234,  8611.92060177,  4035.64248197,  4590.77617191,\n",
       "       34816.87089655, 32086.30667055,  5032.42002722, 10889.44565608,\n",
       "        1938.45383298,  5147.04002501,  4476.6213934 , 37040.68023461,\n",
       "       27025.32744317,  3300.84878178, 10990.94982838,  3175.07509525,\n",
       "       11738.11620282, 38001.62314486, 12493.48711974,  4507.33883976,\n",
       "        8947.32717919, 26457.06260844, 44658.24365839,  7668.8804322 ,\n",
       "        1989.07449004,  8818.02643673, 12667.58367202,  9457.03675167,\n",
       "       40053.25971661, 10601.77197194, 14090.60591538,  4863.29467289,\n",
       "        7641.18484105,  4839.27546031, 25535.47661579, 20022.76572531,\n",
       "       41636.00499138,  1571.19247118,  8319.26233531,  1953.54239809,\n",
       "        6019.27968413,  9185.28460243, 30428.05832345, 29493.31137445,\n",
       "       21124.89371127, 10306.84034177, 22714.67844999,  2676.36580639,\n",
       "        2209.55339894, 10614.3814259 ,  9444.16461721, 10206.71944443,\n",
       "        4821.10280109, 14292.20429231, 13207.10717175,  3663.88854841,\n",
       "        1609.31912811, 10838.49443724,  5976.16400337, 39232.32409444,\n",
       "        9672.64946206,  2101.23701273,  2473.81807549,  6535.28483336,\n",
       "        2482.3334122 ,  2113.88115962, 11085.64532673,  9991.86192107,\n",
       "        4370.19122768, 13137.68396512, 12995.14908655,  9470.58468222,\n",
       "        4434.77107734,  4533.47694205, 14140.12325121,  5529.76874134,\n",
       "        4196.88379491,  2163.59706744,  3982.99997416,  4215.21844803,\n",
       "        8026.36994288,  1936.18078135,  4331.33195447,  4625.8225369 ,\n",
       "        4077.8483469 ,  5997.3483591 , 32122.62187393,  1695.63889569,\n",
       "       11173.33978913,  6566.02514953, 11353.55801509,  2542.7996572 ,\n",
       "        5488.14523941, 29223.60985947,  1862.03276176,  2702.14582814,\n",
       "       14388.08735403, 10091.3796972 , 35990.50566169,  4171.14501518,\n",
       "        5463.8645577 , 22980.49687034,  2099.00156836,  2309.14930283,\n",
       "        6240.84214788,  5943.72484509,  4141.85838316,  4225.45129195,\n",
       "       11255.86330361, 38479.30408671, 12391.3237143 , 20248.48974667,\n",
       "        4395.97089109, 45851.16122652,  3581.60833782,  9448.13726826,\n",
       "        5863.93445573,  2616.23848287,  8635.6694702 , 13693.99101057,\n",
       "        4968.9190176 ,  2436.99324715,  6658.42387945,  2182.54637656,\n",
       "        6369.05649234,  4743.41380915, 14390.72506967,  7243.91768085,\n",
       "        6172.85842356,  7753.48996008,  8652.9784586 ,  2929.2179802 ,\n",
       "       12211.75910849, 13991.07213987, 12747.99833383, 12264.76868203,\n",
       "        7234.36448688,  2462.0791069 ,  1588.61473731,  7754.6423211 ,\n",
       "       12558.35493748,  4866.05386295,  4502.7216582 ,  7172.90654239,\n",
       "        8916.74083666, 26972.78559043,  5882.09532458, 11333.58295546,\n",
       "        5749.93136447, 31547.02759136,  7458.00436854,  7182.00040475,\n",
       "        8341.63912906, 10433.4233902 ,  3059.23126042,  7466.65222895,\n",
       "        2504.07818816,  6608.30044229, 24965.05998535, 36793.28000208,\n",
       "        4137.7227323 ,  3225.49618486,  2195.82532   ,  1594.51369801,\n",
       "        7622.31529362,  1945.92376544,  4158.7347196 ,  3461.86602877,\n",
       "        9453.12603238, 29043.40383653, 36764.32655567, 15113.73164618,\n",
       "        6664.35184601, 11259.33331625, 36817.03499326,  9490.58087623,\n",
       "       30868.45495081,  1327.96980429, 36722.77439803,  4810.58744263,\n",
       "       12840.04321546,  3970.75931436, 40522.13299245,  5020.62557748,\n",
       "        9848.93731395,  9955.44365963,  2186.52697721, 13513.92121689,\n",
       "       12233.82522466,  4001.03315781, 12560.92409597,  2167.61880227,\n",
       "        5478.82986468,  3879.16877554,  8924.56397346, 22989.51607749,\n",
       "        3923.91767262,  1681.70485174,  2896.32141703, 43695.78416549,\n",
       "        9083.87043025,  4353.10913805, 12409.03299807, 11648.82980511,\n",
       "       27894.23488887,  6500.81126817,  5094.4153182 ,  8715.85318782,\n",
       "        1628.22920947,  3127.09258486, 15416.50448529, 17773.13555298,\n",
       "       13708.20633464,  2479.26583513,  3240.40764218,  9074.84068433,\n",
       "        9458.28819791, 14032.49365887, 22408.89583449,  5989.25985052,\n",
       "       14605.27417143,  2206.2791717 ,  5812.49216313,  4055.74453601,\n",
       "        8440.9294164 ,  2764.95411244,  6623.34119831, 44455.91745238,\n",
       "        3649.52740578,  3571.28935494,  2228.12488174,  8650.89686086,\n",
       "        3339.27444757, 12331.04872008, 40059.22236007, 15772.59233617,\n",
       "        9001.76799578, 45697.12464649, 13224.08474528,  4381.46465667,\n",
       "        9728.70622993,  4088.49767448, 32164.3927275 ,  4597.80385229,\n",
       "       13414.45921242,  2044.52910593, 16165.74337295,  3100.49645481,\n",
       "       24976.45511634,  5929.93186218,  2197.45743426, 39305.48409827,\n",
       "        5338.66542732,  5262.12164131, 31180.58407305,  1640.9216039 ,\n",
       "        8445.50039618,  2950.02231264, 11756.02981481,  3352.36233944,\n",
       "        5038.61294315,  4896.89481105, 39827.78574758,  8847.66647796,\n",
       "       30235.34089722, 38846.8181688 ,  5881.08626294,  8606.98407099,\n",
       "        1757.0427205 ,  3282.13383214,  3461.15831976,  8489.25990795,\n",
       "       41708.18872015, 11350.99221094,  2246.33315903, 12114.94130943,\n",
       "        2113.38558271,  7680.12549849,  3795.97293795,  2512.48385817,\n",
       "        3204.02559017, 34714.97647275,  7207.97174551,  2231.10245726,\n",
       "       43608.0838551 , 11168.52202795, 41511.6461906 , 11725.39029179,\n",
       "        4205.27112617,  2090.51932736,  2328.28592461, 10412.21063231,\n",
       "        5131.58469587,  2090.55082391, 10440.25148628,  7224.8400964 ,\n",
       "        6348.55706077,  4165.15842765,  2665.96208734, 41800.1621246 ,\n",
       "        1774.86443219,  9382.25669224,  1998.65168152,  7087.64382471,\n",
       "       10898.45360005,  3184.39005822, 17660.18295866, 10536.85627238,\n",
       "       14540.87615575, 13735.21746266])"
      ]
     },
     "execution_count": 35,
     "metadata": {},
     "output_type": "execute_result"
    }
   ],
   "source": [
    "y_pred=re.predict(x_test)\n",
    "y_pred"
   ]
  },
  {
   "cell_type": "markdown",
   "id": "80dc8156",
   "metadata": {},
   "source": [
    "## 5. Evalution metric"
   ]
  },
  {
   "cell_type": "code",
   "execution_count": 36,
   "id": "ba0837f8",
   "metadata": {},
   "outputs": [],
   "source": [
    "#check the score of the AI model\n",
    "from sklearn.metrics import r2_score\n",
    "r_score=r2_score(y_test,y_pred)"
   ]
  },
  {
   "cell_type": "code",
   "execution_count": 37,
   "id": "098b0866",
   "metadata": {},
   "outputs": [
    {
     "data": {
      "text/plain": [
       "0.8663393953081686"
      ]
     },
     "execution_count": 37,
     "metadata": {},
     "output_type": "execute_result"
    }
   ],
   "source": [
    "r_score"
   ]
  },
  {
   "cell_type": "markdown",
   "id": "fcdd3715",
   "metadata": {},
   "source": [
    "## 6. Save best model"
   ]
  },
  {
   "cell_type": "code",
   "execution_count": 38,
   "id": "c0f2d3aa",
   "metadata": {},
   "outputs": [],
   "source": [
    "import pickle \n",
    "new_file=\"Final_model.sav\""
   ]
  },
  {
   "cell_type": "code",
   "execution_count": 39,
   "id": "c5f07233",
   "metadata": {},
   "outputs": [],
   "source": [
    "pickle.dump(re,open(\"Final_model.sav\",'wb'))"
   ]
  },
  {
   "cell_type": "code",
   "execution_count": 40,
   "id": "63bfe30b",
   "metadata": {},
   "outputs": [],
   "source": [
    "load=pickle.load(open(\"Final_model.sav\",'rb'))\n",
    "#We need to enter the value based on the Independent variable which is in input split\n",
    "result=load.predict([[43,25.300,0,1,1]])"
   ]
  },
  {
   "cell_type": "code",
   "execution_count": 41,
   "id": "f97a4807",
   "metadata": {},
   "outputs": [
    {
     "data": {
      "text/plain": [
       "array([16589.18908958])"
      ]
     },
     "execution_count": 41,
     "metadata": {},
     "output_type": "execute_result"
    }
   ],
   "source": [
    "result"
   ]
  },
  {
   "cell_type": "code",
   "execution_count": null,
   "id": "a7a179f6",
   "metadata": {},
   "outputs": [],
   "source": []
  },
  {
   "cell_type": "code",
   "execution_count": null,
   "id": "715d0581",
   "metadata": {},
   "outputs": [],
   "source": []
  }
 ],
 "metadata": {
  "kernelspec": {
   "display_name": "Python 3 (ipykernel)",
   "language": "python",
   "name": "python3"
  },
  "language_info": {
   "codemirror_mode": {
    "name": "ipython",
    "version": 3
   },
   "file_extension": ".py",
   "mimetype": "text/x-python",
   "name": "python",
   "nbconvert_exporter": "python",
   "pygments_lexer": "ipython3",
   "version": "3.10.9"
  }
 },
 "nbformat": 4,
 "nbformat_minor": 5
}
