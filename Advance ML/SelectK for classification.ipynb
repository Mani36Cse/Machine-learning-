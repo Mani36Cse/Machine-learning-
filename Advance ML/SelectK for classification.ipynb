{
 "cells": [
  {
   "cell_type": "code",
   "execution_count": 1,
   "id": "80bf944e-908d-400f-8302-85f115f9ed8f",
   "metadata": {},
   "outputs": [],
   "source": [
    "import pandas as pf\n",
    "from SelectK_Classification import SelectK_Best\n",
    "SB=SelectK_Best()"
   ]
  },
  {
   "cell_type": "code",
   "execution_count": 2,
   "id": "1e5cc749-71ea-49bb-a574-a694cb09c695",
   "metadata": {},
   "outputs": [],
   "source": [
    "data=pf.read_csv(\"prep.csv\")"
   ]
  },
  {
   "cell_type": "code",
   "execution_count": 3,
   "id": "d0b56423-b5be-4d8d-865b-4fdfff31109a",
   "metadata": {
    "scrolled": true
   },
   "outputs": [
    {
     "data": {
      "text/plain": [
       "age               0\n",
       "bp                0\n",
       "sg                0\n",
       "al                0\n",
       "su                0\n",
       "rbc               0\n",
       "pc                0\n",
       "pcc               0\n",
       "ba                0\n",
       "bgr               0\n",
       "bu                0\n",
       "sc                0\n",
       "sod               0\n",
       "pot               0\n",
       "hrmo              0\n",
       "pcv               0\n",
       "wc                0\n",
       "rc                0\n",
       "htn               0\n",
       "dm                0\n",
       "cad               0\n",
       "appet             0\n",
       "pe                0\n",
       "ane               0\n",
       "classification    0\n",
       "dtype: int64"
      ]
     },
     "execution_count": 3,
     "metadata": {},
     "output_type": "execute_result"
    }
   ],
   "source": [
    "data.isnull().sum()\n",
    "#No null values found"
   ]
  },
  {
   "cell_type": "code",
   "execution_count": 4,
   "id": "eb8e4a18-cd52-42bd-97e6-c12d065dab68",
   "metadata": {},
   "outputs": [],
   "source": [
    "#data preprocessing\n",
    "dataset=pf.get_dummies(data,drop_first=True)"
   ]
  },
  {
   "cell_type": "code",
   "execution_count": 5,
   "id": "3fbc6f86-2fcf-4bfa-9e4c-b66aaec72d2b",
   "metadata": {},
   "outputs": [],
   "source": [
    "#input and output split\n",
    "inde_x=dataset.drop(\"classification_yes\",axis=1)\n",
    "depe_y=dataset[\"classification_yes\"]"
   ]
  },
  {
   "cell_type": "code",
   "execution_count": 6,
   "id": "3fd47750-c928-4e53-9116-a084f4020864",
   "metadata": {},
   "outputs": [],
   "source": [
    "#Give input and output to SelectK best algorithm, 5 no of cloumns accept \n",
    "value_x=SB.selectkbest(inde_x,depe_y,5)"
   ]
  },
  {
   "cell_type": "code",
   "execution_count": 7,
   "id": "c546d358-03d9-4023-9882-c7407a0f00bf",
   "metadata": {},
   "outputs": [],
   "source": [
    "#Split the selectk_best input and output\n",
    "x_train,x_test,y_train,y_test=SB.split_scaler(value_x,depe_y)"
   ]
  },
  {
   "cell_type": "code",
   "execution_count": 8,
   "id": "88664ba6-9f40-4834-9dc6-991d25ccb207",
   "metadata": {},
   "outputs": [],
   "source": [
    "acclog=[]\n",
    "accsvml=[]\n",
    "accsvmnl=[]\n",
    "accknn=[]\n",
    "accnav=[]\n",
    "accdes=[]\n",
    "accrf=[]"
   ]
  },
  {
   "cell_type": "code",
   "execution_count": 9,
   "id": "045cc3c7-b4af-4c34-9494-71d501417c65",
   "metadata": {},
   "outputs": [],
   "source": [
    "classifier,Accuracy,report,x_test,y_test,cm=SB.Logistic(x_train,y_train,x_test,y_test)\n",
    "acclog.append(Accuracy)\n",
    "\n",
    "classifier,Accuracy,report,x_test,y_test,cm=SB.svm_linear(x_train,y_train,x_test,y_test)  \n",
    "accsvml.append(Accuracy)\n",
    "    \n",
    "classifier,Accuracy,report,x_test,y_test,cm=SB.svm_NL(x_train,y_train,x_test,y_test)  \n",
    "accsvmnl.append(Accuracy)\n",
    "    \n",
    "classifier,Accuracy,report,x_test,y_test,cm=SB.knn(x_train,y_train,x_test,y_test)  \n",
    "accknn.append(Accuracy)\n",
    "    \n",
    "classifier,Accuracy,report,x_test,y_test,cm=SB.Navie(x_train,y_train,x_test,y_test)  \n",
    "accnav.append(Accuracy)\n",
    "    \n",
    "classifier,Accuracy,report,x_test,y_test,cm=SB.Decision(x_train,y_train,x_test,y_test)  \n",
    "accdes.append(Accuracy)\n",
    "    \n",
    "classifier,Accuracy,report,x_test,y_test,cm=SB.random(x_train,y_train,x_test,y_test)  \n",
    "accrf.append(Accuracy)"
   ]
  },
  {
   "cell_type": "code",
   "execution_count": 10,
   "id": "f3dac3ae-1313-425e-afa9-6995cea97bf1",
   "metadata": {},
   "outputs": [],
   "source": [
    "result=SB.selectk_Classification(acclog,accsvml,accsvmnl,accknn,accnav,accdes,accrf)"
   ]
  },
  {
   "cell_type": "code",
   "execution_count": 11,
   "id": "a16e0d3d-5c04-4877-bd51-25dfe75ca360",
   "metadata": {},
   "outputs": [
    {
     "data": {
      "text/html": [
       "<div>\n",
       "<style scoped>\n",
       "    .dataframe tbody tr th:only-of-type {\n",
       "        vertical-align: middle;\n",
       "    }\n",
       "\n",
       "    .dataframe tbody tr th {\n",
       "        vertical-align: top;\n",
       "    }\n",
       "\n",
       "    .dataframe thead th {\n",
       "        text-align: right;\n",
       "    }\n",
       "</style>\n",
       "<table border=\"1\" class=\"dataframe\">\n",
       "  <thead>\n",
       "    <tr style=\"text-align: right;\">\n",
       "      <th></th>\n",
       "      <th>Logistic</th>\n",
       "      <th>SVMl</th>\n",
       "      <th>SVMnl</th>\n",
       "      <th>KNN</th>\n",
       "      <th>Navie</th>\n",
       "      <th>Decision</th>\n",
       "      <th>Random</th>\n",
       "    </tr>\n",
       "  </thead>\n",
       "  <tbody>\n",
       "    <tr>\n",
       "      <th>ChiScore</th>\n",
       "      <td>0.941667</td>\n",
       "      <td>0.941667</td>\n",
       "      <td>0.95</td>\n",
       "      <td>0.908333</td>\n",
       "      <td>0.841667</td>\n",
       "      <td>0.958333</td>\n",
       "      <td>0.958333</td>\n",
       "    </tr>\n",
       "  </tbody>\n",
       "</table>\n",
       "</div>"
      ],
      "text/plain": [
       "          Logistic      SVMl SVMnl       KNN     Navie  Decision    Random\n",
       "ChiScore  0.941667  0.941667  0.95  0.908333  0.841667  0.958333  0.958333"
      ]
     },
     "execution_count": 11,
     "metadata": {},
     "output_type": "execute_result"
    }
   ],
   "source": [
    "result"
   ]
  },
  {
   "cell_type": "code",
   "execution_count": null,
   "id": "1b3e870d-10a2-464c-99f7-7147d1e87af0",
   "metadata": {},
   "outputs": [],
   "source": [
    "#based on the chi score Random forest and Decision tree algorithms are best score :0.95, 95%"
   ]
  }
 ],
 "metadata": {
  "kernelspec": {
   "display_name": "Python 3 (ipykernel)",
   "language": "python",
   "name": "python3"
  },
  "language_info": {
   "codemirror_mode": {
    "name": "ipython",
    "version": 3
   },
   "file_extension": ".py",
   "mimetype": "text/x-python",
   "name": "python",
   "nbconvert_exporter": "python",
   "pygments_lexer": "ipython3",
   "version": "3.13.5"
  }
 },
 "nbformat": 4,
 "nbformat_minor": 5
}
