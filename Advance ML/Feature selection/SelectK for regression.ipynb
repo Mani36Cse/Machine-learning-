{
 "cells": [
  {
   "cell_type": "code",
   "execution_count": 1,
   "id": "20020315-7b86-4e6f-ab42-03c78cee9109",
   "metadata": {},
   "outputs": [],
   "source": [
    "from SelectK_Regression import SelectK_Best\n",
    "SK=SelectK_Best()\n",
    "import pandas as pd"
   ]
  },
  {
   "cell_type": "code",
   "execution_count": 2,
   "id": "4f718800-eb56-493e-a259-06824979da6a",
   "metadata": {},
   "outputs": [],
   "source": [
    "data=pd.read_csv(\"prep.csv\")"
   ]
  },
  {
   "cell_type": "code",
   "execution_count": 3,
   "id": "1d5b790c-c3ae-45ad-aae4-e76edda396d4",
   "metadata": {
    "scrolled": true
   },
   "outputs": [],
   "source": [
    "data.isnull().sum()\n",
    "#No null values found"
   ]
  },
  {
   "cell_type": "code",
   "execution_count": 4,
   "id": "78f844f0-6eb7-4217-a5d6-085c7105e1db",
   "metadata": {},
   "outputs": [],
   "source": [
    "#data preprocessing\n",
    "dataset=pd.get_dummies(data,drop_first=True)"
   ]
  },
  {
   "cell_type": "code",
   "execution_count": 5,
   "id": "61c3b4fb-a640-4156-a789-f853e41cc2b4",
   "metadata": {},
   "outputs": [],
   "source": [
    "#input and output split\n",
    "inde_x=dataset.drop(\"classification_yes\",axis=1)\n",
    "depe_y=dataset[\"classification_yes\"]"
   ]
  },
  {
   "cell_type": "code",
   "execution_count": 6,
   "id": "adf9680b-78b5-459d-87a5-6171460f2787",
   "metadata": {
    "scrolled": true
   },
   "outputs": [],
   "source": [
    "#dir(SK)"
   ]
  },
  {
   "cell_type": "code",
   "execution_count": 7,
   "id": "6dff337e-3d41-4383-be19-9f7506ced040",
   "metadata": {
    "scrolled": true
   },
   "outputs": [],
   "source": [
    "#Give input and output to SelectK best algorithm, 5 no of cloumns accept \n",
    "value_x=SK.selectkbest(inde_x,depe_y,5)"
   ]
  },
  {
   "cell_type": "code",
   "execution_count": 8,
   "id": "e14dced1-9a38-40c2-84d4-da954d2c874f",
   "metadata": {},
   "outputs": [],
   "source": [
    "#Split the selectk_best input and output\n",
    "x_train,x_test,y_train,y_test=SK.split_scaler(value_x,depe_y)"
   ]
  },
  {
   "cell_type": "code",
   "execution_count": 9,
   "id": "fcb393d9-55b2-4b03-864f-f642993d6ca7",
   "metadata": {},
   "outputs": [],
   "source": [
    "acclin=[]\n",
    "accsvml=[]\n",
    "accsvmnl=[]\n",
    "accdes=[]\n",
    "accrf=[]"
   ]
  },
  {
   "cell_type": "code",
   "execution_count": 10,
   "id": "dd4755ba-a94a-4dcf-b754-cf50ec3cbb2f",
   "metadata": {},
   "outputs": [],
   "source": [
    "for i in value_x:\n",
    "    r2_lin=SK.Linear(x_train,y_train,x_test,y_test)\n",
    "    acclin.append(r2_lin)\n",
    "\n",
    "    r2_sl=SK.svm_linear(x_train,y_train,x_test,y_test)    \n",
    "    accsvml.append(r2_sl)\n",
    "    \n",
    "    r2_NL=SK.svm_NL(x_train,y_train,x_test,y_test)\n",
    "    accsvmnl.append(r2_NL)\n",
    "    \n",
    "    r2_d=SK.Decision(x_train,y_train,x_test,y_test)\n",
    "    accdes.append(r2_d)\n",
    "    \n",
    "    r2_r=SK.random(x_train,y_train,x_test,y_test)\n",
    "    accrf.append(r2_r)"
   ]
  },
  {
   "cell_type": "code",
   "execution_count": null,
   "id": "a161d34b-34a9-45a7-a782-841c6d9968f5",
   "metadata": {},
   "outputs": [],
   "source": []
  },
  {
   "cell_type": "code",
   "execution_count": 11,
   "id": "5ee1c570-63b3-4ea8-98c4-e2fca1e08d36",
   "metadata": {},
   "outputs": [],
   "source": [
    "result=SK.selectk_regression(acclin,accsvml,accsvmnl,accdes,accrf)"
   ]
  },
  {
   "cell_type": "code",
   "execution_count": 12,
   "id": "154c644b-a1cf-4ba3-899e-d569e30ce2fe",
   "metadata": {},
   "outputs": [
    {
     "data": {
      "text/html": [
       "<div>\n",
       "<style scoped>\n",
       "    .dataframe tbody tr th:only-of-type {\n",
       "        vertical-align: middle;\n",
       "    }\n",
       "\n",
       "    .dataframe tbody tr th {\n",
       "        vertical-align: top;\n",
       "    }\n",
       "\n",
       "    .dataframe thead th {\n",
       "        text-align: right;\n",
       "    }\n",
       "</style>\n",
       "<table border=\"1\" class=\"dataframe\">\n",
       "  <thead>\n",
       "    <tr style=\"text-align: right;\">\n",
       "      <th></th>\n",
       "      <th>Linear</th>\n",
       "      <th>SVMl</th>\n",
       "      <th>SVMnl</th>\n",
       "      <th>Decision</th>\n",
       "      <th>Random</th>\n",
       "    </tr>\n",
       "  </thead>\n",
       "  <tbody>\n",
       "    <tr>\n",
       "      <th>ChiScore</th>\n",
       "      <td>0.554914</td>\n",
       "      <td>0.548167</td>\n",
       "      <td>0.773417</td>\n",
       "      <td>0.715556</td>\n",
       "      <td>0.862756</td>\n",
       "    </tr>\n",
       "  </tbody>\n",
       "</table>\n",
       "</div>"
      ],
      "text/plain": [
       "            Linear      SVMl     SVMnl  Decision    Random\n",
       "ChiScore  0.554914  0.548167  0.773417  0.715556  0.862756"
      ]
     },
     "execution_count": 12,
     "metadata": {},
     "output_type": "execute_result"
    }
   ],
   "source": [
    "result"
   ]
  },
  {
   "cell_type": "code",
   "execution_count": 14,
   "id": "6343bcfb-cda9-474e-a4dc-b46f4b42f426",
   "metadata": {},
   "outputs": [],
   "source": [
    "#based on the chi score Random forest algorithm is best score :0.86, 86%"
   ]
  },
  {
   "cell_type": "code",
   "execution_count": null,
   "id": "7f9eec9b-533e-4a14-9021-264db35db9f0",
   "metadata": {},
   "outputs": [],
   "source": []
  }
 ],
 "metadata": {
  "kernelspec": {
   "display_name": "Python 3 (ipykernel)",
   "language": "python",
   "name": "python3"
  },
  "language_info": {
   "codemirror_mode": {
    "name": "ipython",
    "version": 3
   },
   "file_extension": ".py",
   "mimetype": "text/x-python",
   "name": "python",
   "nbconvert_exporter": "python",
   "pygments_lexer": "ipython3",
   "version": "3.13.5"
  }
 },
 "nbformat": 4,
 "nbformat_minor": 5
}
