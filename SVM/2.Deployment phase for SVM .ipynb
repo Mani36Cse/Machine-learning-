{
 "cells": [
  {
   "cell_type": "code",
   "execution_count": 1,
   "id": "fc4f1f32",
   "metadata": {},
   "outputs": [],
   "source": [
    "import pickle"
   ]
  },
  {
   "cell_type": "markdown",
   "id": "3cf3e16a",
   "metadata": {},
   "source": [
    "## 1. Load the best model"
   ]
  },
  {
   "cell_type": "code",
   "execution_count": 4,
   "id": "279c5c1a",
   "metadata": {},
   "outputs": [],
   "source": [
    "load_model=pickle.load(open(\"Final_model_SVM.sav\",'rb'))"
   ]
  },
  {
   "cell_type": "markdown",
   "id": "46e264e1",
   "metadata": {},
   "source": [
    "## 2. Get the output"
   ]
  },
  {
   "cell_type": "code",
   "execution_count": 9,
   "id": "4a2908d8",
   "metadata": {},
   "outputs": [
    {
     "name": "stdout",
     "output_type": "stream",
     "text": [
      "Enter the R&D value :12000\n",
      "Enter the Admin value :15000\n",
      "Enter the marketing spend value :18000\n",
      "State Florida yes enter 0, if no enter 1 :0\n",
      "State New York yes enter 0, if no enter 1 :1\n"
     ]
    }
   ],
   "source": [
    "r_and_d=float(input(\"Enter the R&D value :\"))\n",
    "Admin=float(input(\"Enter the Admin value :\"))\n",
    "Mark=float(input(\"Enter the marketing spend value :\"))\n",
    "flo=int(input(\"State Florida yes enter 0, if no enter 1 :\"))\n",
    "new=int(input(\"State New York yes enter 0, if no enter 1 :\"))"
   ]
  },
  {
   "cell_type": "code",
   "execution_count": 10,
   "id": "5497d554",
   "metadata": {},
   "outputs": [],
   "source": [
    "result=load_model.predict([[r_and_d,Admin,Mark,flo,new]])"
   ]
  },
  {
   "cell_type": "code",
   "execution_count": 11,
   "id": "30d23823",
   "metadata": {},
   "outputs": [
    {
     "data": {
      "text/plain": [
       "array([5.58928584e+08])"
      ]
     },
     "execution_count": 11,
     "metadata": {},
     "output_type": "execute_result"
    }
   ],
   "source": [
    "result"
   ]
  },
  {
   "cell_type": "code",
   "execution_count": null,
   "id": "955a4364",
   "metadata": {},
   "outputs": [],
   "source": []
  }
 ],
 "metadata": {
  "kernelspec": {
   "display_name": "Python 3 (ipykernel)",
   "language": "python",
   "name": "python3"
  },
  "language_info": {
   "codemirror_mode": {
    "name": "ipython",
    "version": 3
   },
   "file_extension": ".py",
   "mimetype": "text/x-python",
   "name": "python",
   "nbconvert_exporter": "python",
   "pygments_lexer": "ipython3",
   "version": "3.10.9"
  }
 },
 "nbformat": 4,
 "nbformat_minor": 5
}
